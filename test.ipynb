{
 "cells": [
  {
   "cell_type": "code",
   "execution_count": 60,
   "metadata": {},
   "outputs": [
    {
     "data": {
      "text/plain": [
       "inf_otoc"
      ]
     },
     "execution_count": 60,
     "metadata": {},
     "output_type": "execute_result"
    }
   ],
   "source": [
    "include(\"OTOC.jl\")"
   ]
  },
  {
   "cell_type": "code",
   "execution_count": 72,
   "metadata": {},
   "outputs": [
    {
     "data": {
      "text/plain": [
       "rand_sz (generic function with 4 methods)"
      ]
     },
     "execution_count": 72,
     "metadata": {},
     "output_type": "execute_result"
    }
   ],
   "source": [
    "function rand_sz(nbit::Int,h,periodic::Bool=false)\n",
    "    sx = i ->  1/2 * put(nbit, i=>X)\n",
    "    sy = i ->  1/2 * put(nbit, i=>Y)\n",
    "    sz = i ->  1/2 * put(nbit, i=>Z)\n",
    "    interaction = map(1: ( periodic ? nbit : nbit-1) ) do i\n",
    "        j = i%nbit + 1\n",
    "        (sz(i)*sz(j))\n",
    "    end |> sum\n",
    "\n",
    "    hi = rand(-h:.0001:h,nbit)\n",
    "    disoder = map(1:nbit) do i \n",
    "        hi[i] * sz(i)\n",
    "    end |> sum\n",
    "\n",
    "    interaction + disorder\n",
    "end"
   ]
  },
  {
   "cell_type": "code",
   "execution_count": 75,
   "metadata": {},
   "outputs": [
    {
     "data": {
      "text/plain": [
       "\u001b[36mnqubits: 8\u001b[39m\n",
       "\u001b[31m\u001b[1m+\u001b[22m\u001b[39m\n",
       "├─ \u001b[31m\u001b[1m+\u001b[22m\u001b[39m\n",
       "│  ├─ \u001b[31m\u001b[1m+\u001b[22m\u001b[39m\n",
       "│  │  ├─ \u001b[33m\u001b[1m[scale: 0.25] \u001b[22m\u001b[39m\u001b[34m\u001b[1mchain\u001b[22m\u001b[39m\n",
       "│  │  │     ├─ \u001b[36m\u001b[1mput on (\u001b[22m\u001b[39m\u001b[36m\u001b[1m2\u001b[22m\u001b[39m\u001b[36m\u001b[1m)\u001b[22m\u001b[39m\n",
       "│  │  │     │  └─ X\n",
       "│  │  │     └─ \u001b[36m\u001b[1mput on (\u001b[22m\u001b[39m\u001b[36m\u001b[1m1\u001b[22m\u001b[39m\u001b[36m\u001b[1m)\u001b[22m\u001b[39m\n",
       "│  │  │        └─ X\n",
       "│  │  ├─ \u001b[33m\u001b[1m[scale: 0.25] \u001b[22m\u001b[39m\u001b[34m\u001b[1mchain\u001b[22m\u001b[39m\n",
       "│  │  │     ├─ \u001b[36m\u001b[1mput on (\u001b[22m\u001b[39m\u001b[36m\u001b[1m2\u001b[22m\u001b[39m\u001b[36m\u001b[1m)\u001b[22m\u001b[39m\n",
       "│  │  │     │  └─ Y\n",
       "│  │  │     └─ \u001b[36m\u001b[1mput on (\u001b[22m\u001b[39m\u001b[36m\u001b[1m1\u001b[22m\u001b[39m\u001b[36m\u001b[1m)\u001b[22m\u001b[39m\n",
       "│  │  │        └─ Y\n",
       "│  │  └─ \u001b[33m\u001b[1m[scale: 0.25] \u001b[22m\u001b[39m\u001b[34m\u001b[1mchain\u001b[22m\u001b[39m\n",
       "│  │        ├─ \u001b[36m\u001b[1mput on (\u001b[22m\u001b[39m\u001b[36m\u001b[1m2\u001b[22m\u001b[39m\u001b[36m\u001b[1m)\u001b[22m\u001b[39m\n",
       "│  │        │  └─ Z\n",
       "│  │        └─ \u001b[36m\u001b[1mput on (\u001b[22m\u001b[39m\u001b[36m\u001b[1m1\u001b[22m\u001b[39m\u001b[36m\u001b[1m)\u001b[22m\u001b[39m\n",
       "│  │           └─ Z\n",
       "│  ├─ \u001b[31m\u001b[1m+\u001b[22m\u001b[39m\n",
       "│  │  ├─ \u001b[33m\u001b[1m[scale: 0.25] \u001b[22m\u001b[39m\u001b[34m\u001b[1mchain\u001b[22m\u001b[39m\n",
       "│  │  │     ├─ \u001b[36m\u001b[1mput on (\u001b[22m\u001b[39m\u001b[36m\u001b[1m3\u001b[22m\u001b[39m\u001b[36m\u001b[1m)\u001b[22m\u001b[39m\n",
       "│  │  │     │  └─ X\n",
       "│  │  │     └─ \u001b[36m\u001b[1mput on (\u001b[22m\u001b[39m\u001b[36m\u001b[1m2\u001b[22m\u001b[39m\u001b[36m\u001b[1m)\u001b[22m\u001b[39m\n",
       "│  │  │        └─ X\n",
       "│  │  ├─ \u001b[33m\u001b[1m[scale: 0.25] \u001b[22m\u001b[39m\u001b[34m\u001b[1mchain\u001b[22m\u001b[39m\n",
       "│  │  │     ├─ \u001b[36m\u001b[1mput on (\u001b[22m\u001b[39m\u001b[36m\u001b[1m3\u001b[22m\u001b[39m\u001b[36m\u001b[1m)\u001b[22m\u001b[39m\n",
       "│  │  │     │  └─ Y\n",
       "│  │  │     └─ \u001b[36m\u001b[1mput on (\u001b[22m\u001b[39m\u001b[36m\u001b[1m2\u001b[22m\u001b[39m\u001b[36m\u001b[1m)\u001b[22m\u001b[39m\n",
       "│  │  │        └─ Y\n",
       "│  │  └─ \u001b[33m\u001b[1m[scale: 0.25] \u001b[22m\u001b[39m\u001b[34m\u001b[1mchain\u001b[22m\u001b[39m\n",
       "│  │        ├─ \u001b[36m\u001b[1mput on (\u001b[22m\u001b[39m\u001b[36m\u001b[1m3\u001b[22m\u001b[39m\u001b[36m\u001b[1m)\u001b[22m\u001b[39m\n",
       "│  │        │  └─ Z\n",
       "│  │        └─ \u001b[36m\u001b[1mput on (\u001b[22m\u001b[39m\u001b[36m\u001b[1m2\u001b[22m\u001b[39m\u001b[36m\u001b[1m)\u001b[22m\u001b[39m\n",
       "│  │           └─ Z\n",
       "│  ├─ \u001b[31m\u001b[1m+\u001b[22m\u001b[39m\n",
       "│  │  ├─ \u001b[33m\u001b[1m[scale: 0.25] \u001b[22m\u001b[39m\u001b[34m\u001b[1mchain\u001b[22m\u001b[39m\n",
       "│  │  │     ├─ \u001b[36m\u001b[1mput on (\u001b[22m\u001b[39m\u001b[36m\u001b[1m4\u001b[22m\u001b[39m\u001b[36m\u001b[1m)\u001b[22m\u001b[39m\n",
       "│  │  │     │  └─ X\n",
       "│  │  │     └─ \u001b[36m\u001b[1mput on (\u001b[22m\u001b[39m\u001b[36m\u001b[1m3\u001b[22m\u001b[39m\u001b[36m\u001b[1m)\u001b[22m\u001b[39m\n",
       "│  │  │        └─ X\n",
       "│  │  ├─ \u001b[33m\u001b[1m[scale: 0.25] \u001b[22m\u001b[39m\u001b[34m\u001b[1mchain\u001b[22m\u001b[39m\n",
       "│  │  │     ├─ \u001b[36m\u001b[1mput on (\u001b[22m\u001b[39m\u001b[36m\u001b[1m4\u001b[22m\u001b[39m\u001b[36m\u001b[1m)\u001b[22m\u001b[39m\n",
       "│  │  │     │  └─ Y\n",
       "│  │  │     └─ \u001b[36m\u001b[1mput on (\u001b[22m\u001b[39m\u001b[36m\u001b[1m3\u001b[22m\u001b[39m\u001b[36m\u001b[1m)\u001b[22m\u001b[39m\n",
       "│  │  │        └─ Y\n",
       "│  │  └─ \u001b[33m\u001b[1m[scale: 0.25] \u001b[22m\u001b[39m\u001b[34m\u001b[1mchain\u001b[22m\u001b[39m\n",
       "│  │        ├─ \u001b[36m\u001b[1mput on (\u001b[22m\u001b[39m\u001b[36m\u001b[1m4\u001b[22m\u001b[39m\u001b[36m\u001b[1m)\u001b[22m\u001b[39m\n",
       "│  │        │  └─ Z\n",
       "│  │        └─ \u001b[36m\u001b[1mput on (\u001b[22m\u001b[39m\u001b[36m\u001b[1m3\u001b[22m\u001b[39m\u001b[36m\u001b[1m)\u001b[22m\u001b[39m\n",
       "│  │           └─ Z\n",
       "│  ├─ \u001b[31m\u001b[1m+\u001b[22m\u001b[39m\n",
       "│  │  ├─ \u001b[33m\u001b[1m[scale: 0.25] \u001b[22m\u001b[39m\u001b[34m\u001b[1mchain\u001b[22m\u001b[39m\n",
       "│  │  │     ├─ \u001b[36m\u001b[1mput on (\u001b[22m\u001b[39m\u001b[36m\u001b[1m5\u001b[22m\u001b[39m\u001b[36m\u001b[1m)\u001b[22m\u001b[39m\n",
       "│  │  │     │  └─ X\n",
       "│  │  │     └─ \u001b[36m\u001b[1mput on (\u001b[22m\u001b[39m\u001b[36m\u001b[1m4\u001b[22m\u001b[39m\u001b[36m\u001b[1m)\u001b[22m\u001b[39m\n",
       "│  │  │        └─ X\n",
       "│  │  ├─ \u001b[33m\u001b[1m[scale: 0.25] \u001b[22m\u001b[39m\u001b[34m\u001b[1mchain\u001b[22m\u001b[39m\n",
       "│  │  │     ├─ \u001b[36m\u001b[1mput on (\u001b[22m\u001b[39m\u001b[36m\u001b[1m5\u001b[22m\u001b[39m\u001b[36m\u001b[1m)\u001b[22m\u001b[39m\n",
       "│  │  │     │  └─ Y\n",
       "│  │  │     └─ \u001b[36m\u001b[1mput on (\u001b[22m\u001b[39m\u001b[36m\u001b[1m4\u001b[22m\u001b[39m\u001b[36m\u001b[1m)\u001b[22m\u001b[39m\n",
       "│  │  │        └─ Y\n",
       "│  │  └─ \u001b[33m\u001b[1m[scale: 0.25] \u001b[22m\u001b[39m\u001b[34m\u001b[1mchain\u001b[22m\u001b[39m\n",
       "│  │        ├─ \u001b[36m\u001b[1mput on (\u001b[22m\u001b[39m\u001b[36m\u001b[1m5\u001b[22m\u001b[39m\u001b[36m\u001b[1m)\u001b[22m\u001b[39m\n",
       "│  │        │  └─ Z\n",
       "│  │        └─ \u001b[36m\u001b[1mput on (\u001b[22m\u001b[39m\u001b[36m\u001b[1m4\u001b[22m\u001b[39m\u001b[36m\u001b[1m)\u001b[22m\u001b[39m\n",
       "│  │           └─ Z\n",
       "│  ├─ \u001b[31m\u001b[1m+\u001b[22m\u001b[39m\n",
       "│  │  ├─ \u001b[33m\u001b[1m[scale: 0.25] \u001b[22m\u001b[39m\u001b[34m\u001b[1mchain\u001b[22m\u001b[39m\n",
       "│  │  │     ├─ \u001b[36m\u001b[1mput on (\u001b[22m\u001b[39m\u001b[36m\u001b[1m6\u001b[22m\u001b[39m\u001b[36m\u001b[1m)\u001b[22m\u001b[39m\n",
       "│  │  │     │  └─ X\n",
       "│  │  │     └─ \u001b[36m\u001b[1mput on (\u001b[22m\u001b[39m\u001b[36m\u001b[1m5\u001b[22m\u001b[39m\u001b[36m\u001b[1m)\u001b[22m\u001b[39m\n",
       "│  │  │        └─ X\n",
       "│  │  ├─ \u001b[33m\u001b[1m[scale: 0.25] \u001b[22m\u001b[39m\u001b[34m\u001b[1mchain\u001b[22m\u001b[39m\n",
       "│  │  │     ├─ \u001b[36m\u001b[1mput on (\u001b[22m\u001b[39m\u001b[36m\u001b[1m6\u001b[22m\u001b[39m\u001b[36m\u001b[1m)\u001b[22m\u001b[39m\n",
       "│  │  │     │  └─ Y\n",
       "│  │  │     └─ \u001b[36m\u001b[1mput on (\u001b[22m\u001b[39m\u001b[36m\u001b[1m5\u001b[22m\u001b[39m\u001b[36m\u001b[1m)\u001b[22m\u001b[39m\n",
       "│  │  │        └─ Y\n",
       "│  │  └─ \u001b[33m\u001b[1m[scale: 0.25] \u001b[22m\u001b[39m\u001b[34m\u001b[1mchain\u001b[22m\u001b[39m\n",
       "│  │        ├─ \u001b[36m\u001b[1mput on (\u001b[22m\u001b[39m\u001b[36m\u001b[1m6\u001b[22m\u001b[39m\u001b[36m\u001b[1m)\u001b[22m\u001b[39m\n",
       "│  │        │  └─ Z\n",
       "│  │        └─ \u001b[36m\u001b[1mput on (\u001b[22m\u001b[39m\u001b[36m\u001b[1m5\u001b[22m\u001b[39m\u001b[36m\u001b[1m)\u001b[22m\u001b[39m\n",
       "│  │           └─ Z\n",
       "│  ├─ \u001b[31m\u001b[1m+\u001b[22m\u001b[39m\n",
       "│  │  ├─ \u001b[33m\u001b[1m[scale: 0.25] \u001b[22m\u001b[39m\u001b[34m\u001b[1mchain\u001b[22m\u001b[39m\n",
       "│  │  │     ├─ \u001b[36m\u001b[1mput on (\u001b[22m\u001b[39m\u001b[36m\u001b[1m7\u001b[22m\u001b[39m\u001b[36m\u001b[1m)\u001b[22m\u001b[39m\n",
       "│  │  │     │  └─ X\n",
       "│  │  │     └─ \u001b[36m\u001b[1mput on (\u001b[22m\u001b[39m\u001b[36m\u001b[1m6\u001b[22m\u001b[39m\u001b[36m\u001b[1m)\u001b[22m\u001b[39m\n",
       "│  │  │        └─ X\n",
       "│  │  ├─ \u001b[33m\u001b[1m[scale: 0.25] \u001b[22m\u001b[39m\u001b[34m\u001b[1mchain\u001b[22m\u001b[39m\n",
       "│  │  │     ├─ \u001b[36m\u001b[1mput on (\u001b[22m\u001b[39m\u001b[36m\u001b[1m7\u001b[22m\u001b[39m\u001b[36m\u001b[1m)\u001b[22m\u001b[39m\n",
       "│  │  │     │  └─ Y\n",
       "│  │  │     └─ \u001b[36m\u001b[1mput on (\u001b[22m\u001b[39m\u001b[36m\u001b[1m6\u001b[22m\u001b[39m\u001b[36m\u001b[1m)\u001b[22m\u001b[39m\n",
       "│  │  │        └─ Y\n",
       "│  │  └─ \u001b[33m\u001b[1m[scale: 0.25] \u001b[22m\u001b[39m\u001b[34m\u001b[1mchain\u001b[22m\u001b[39m\n",
       "│  │        ├─ \u001b[36m\u001b[1mput on (\u001b[22m\u001b[39m\u001b[36m\u001b[1m7\u001b[22m\u001b[39m\u001b[36m\u001b[1m)\u001b[22m\u001b[39m\n",
       "│  │        │  └─ Z\n",
       "│  │        └─ \u001b[36m\u001b[1mput on (\u001b[22m\u001b[39m\u001b[36m\u001b[1m6\u001b[22m\u001b[39m\u001b[36m\u001b[1m)\u001b[22m\u001b[39m\n",
       "│  │           └─ Z\n",
       "│  └─ \u001b[31m\u001b[1m+\u001b[22m\u001b[39m\n",
       "│     ├─ \u001b[33m\u001b[1m[scale: 0.25] \u001b[22m\u001b[39m\u001b[34m\u001b[1mchain\u001b[22m\u001b[39m\n",
       "│     │     ├─ \u001b[36m\u001b[1mput on (\u001b[22m\u001b[39m\u001b[36m\u001b[1m8\u001b[22m\u001b[39m\u001b[36m\u001b[1m)\u001b[22m\u001b[39m\n",
       "│     │     │  └─ X\n",
       "│     │     └─ \u001b[36m\u001b[1mput on (\u001b[22m\u001b[39m\u001b[36m\u001b[1m7\u001b[22m\u001b[39m\u001b[36m\u001b[1m)\u001b[22m\u001b[39m\n",
       "│     │        └─ X\n",
       "│     ├─ \u001b[33m\u001b[1m[scale: 0.25] \u001b[22m\u001b[39m\u001b[34m\u001b[1mchain\u001b[22m\u001b[39m\n",
       "│     │     ├─ \u001b[36m\u001b[1mput on (\u001b[22m\u001b[39m\u001b[36m\u001b[1m8\u001b[22m\u001b[39m\u001b[36m\u001b[1m)\u001b[22m\u001b[39m\n",
       "│     │     │  └─ Y\n",
       "│     │     └─ \u001b[36m\u001b[1mput on (\u001b[22m\u001b[39m\u001b[36m\u001b[1m7\u001b[22m\u001b[39m\u001b[36m\u001b[1m)\u001b[22m\u001b[39m\n",
       "│     │        └─ Y\n",
       "│     └─ \u001b[33m\u001b[1m[scale: 0.25] \u001b[22m\u001b[39m\u001b[34m\u001b[1mchain\u001b[22m\u001b[39m\n",
       "│           ├─ \u001b[36m\u001b[1mput on (\u001b[22m\u001b[39m\u001b[36m\u001b[1m8\u001b[22m\u001b[39m\u001b[36m\u001b[1m)\u001b[22m\u001b[39m\n",
       "│           │  └─ Z\n",
       "│           └─ \u001b[36m\u001b[1mput on (\u001b[22m\u001b[39m\u001b[36m\u001b[1m7\u001b[22m\u001b[39m\u001b[36m\u001b[1m)\u001b[22m\u001b[39m\n",
       "│              └─ Z\n",
       "└─ \u001b[31m\u001b[1m+\u001b[22m\u001b[39m\n",
       "   ├─ \u001b[33m\u001b[1m[scale: -0.9333767751715161] \u001b[22m\u001b[39m\u001b[36m\u001b[1mput on (\u001b[22m\u001b[39m\u001b[36m\u001b[1m1\u001b[22m\u001b[39m\u001b[36m\u001b[1m)\u001b[22m\u001b[39m\n",
       "   │     └─ X\n",
       "   ├─ \u001b[33m\u001b[1m[scale: 1.3185644330560238] \u001b[22m\u001b[39m\u001b[36m\u001b[1mput on (\u001b[22m\u001b[39m\u001b[36m\u001b[1m2\u001b[22m\u001b[39m\u001b[36m\u001b[1m)\u001b[22m\u001b[39m\n",
       "   │     └─ X\n",
       "   ├─ \u001b[33m\u001b[1m[scale: -1.6088317098700515] \u001b[22m\u001b[39m\u001b[36m\u001b[1mput on (\u001b[22m\u001b[39m\u001b[36m\u001b[1m3\u001b[22m\u001b[39m\u001b[36m\u001b[1m)\u001b[22m\u001b[39m\n",
       "   │     └─ X\n",
       "   ├─ \u001b[33m\u001b[1m[scale: -1.7653720069590917] \u001b[22m\u001b[39m\u001b[36m\u001b[1mput on (\u001b[22m\u001b[39m\u001b[36m\u001b[1m4\u001b[22m\u001b[39m\u001b[36m\u001b[1m)\u001b[22m\u001b[39m\n",
       "   │     └─ X\n",
       "   ├─ \u001b[33m\u001b[1m[scale: -0.5180087450485744] \u001b[22m\u001b[39m\u001b[36m\u001b[1mput on (\u001b[22m\u001b[39m\u001b[36m\u001b[1m5\u001b[22m\u001b[39m\u001b[36m\u001b[1m)\u001b[22m\u001b[39m\n",
       "   │     └─ X\n",
       "   ├─ \u001b[33m\u001b[1m[scale: -0.8953290000971204] \u001b[22m\u001b[39m\u001b[36m\u001b[1mput on (\u001b[22m\u001b[39m\u001b[36m\u001b[1m6\u001b[22m\u001b[39m\u001b[36m\u001b[1m)\u001b[22m\u001b[39m\n",
       "   │     └─ X\n",
       "   ├─ \u001b[33m\u001b[1m[scale: 0.9195112938326573] \u001b[22m\u001b[39m\u001b[36m\u001b[1mput on (\u001b[22m\u001b[39m\u001b[36m\u001b[1m7\u001b[22m\u001b[39m\u001b[36m\u001b[1m)\u001b[22m\u001b[39m\n",
       "   │     └─ X\n",
       "   └─ \u001b[33m\u001b[1m[scale: 1.7632003759078803] \u001b[22m\u001b[39m\u001b[36m\u001b[1mput on (\u001b[22m\u001b[39m\u001b[36m\u001b[1m8\u001b[22m\u001b[39m\u001b[36m\u001b[1m)\u001b[22m\u001b[39m\n",
       "         └─ X\n"
      ]
     },
     "execution_count": 75,
     "metadata": {},
     "output_type": "execute_result"
    }
   ],
   "source": [
    "h = rand_heisenberg(8,5)"
   ]
  },
  {
   "cell_type": "code",
   "execution_count": null,
   "metadata": {},
   "outputs": [],
   "source": []
  }
 ],
 "metadata": {
  "kernelspec": {
   "display_name": "Julia 1.8.5",
   "language": "julia",
   "name": "julia-1.8"
  },
  "language_info": {
   "file_extension": ".jl",
   "mimetype": "application/julia",
   "name": "julia",
   "version": "1.8.5"
  },
  "orig_nbformat": 4
 },
 "nbformat": 4,
 "nbformat_minor": 2
}
