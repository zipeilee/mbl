{
 "cells": [
  {
   "cell_type": "code",
   "execution_count": 1,
   "metadata": {},
   "outputs": [
    {
     "data": {
      "text/plain": [
       "inf_otoc"
      ]
     },
     "execution_count": 1,
     "metadata": {},
     "output_type": "execute_result"
    }
   ],
   "source": [
    "include(\"OTOC.jl\")"
   ]
  },
  {
   "cell_type": "code",
   "execution_count": 2,
   "metadata": {},
   "outputs": [],
   "source": [
    "using Plots"
   ]
  },
  {
   "cell_type": "code",
   "execution_count": 3,
   "metadata": {},
   "outputs": [],
   "source": [
    "nbit = 5;\n",
    "W = 5;\n"
   ]
  },
  {
   "cell_type": "code",
   "execution_count": 6,
   "metadata": {},
   "outputs": [],
   "source": [
    "zhai1 = xxz(nbit,1,0,5); #AL\n",
    "zhai2 = xxz(nbit,1,1,10); #MBL\n",
    "zhai3 = xxz(nbit,1,0,0); #thermal"
   ]
  },
  {
   "cell_type": "code",
   "execution_count": null,
   "metadata": {},
   "outputs": [],
   "source": [
    "tlist = range(0,10,length=60);\n",
    "y1 = real([sum([inf_otoc(X,X; t=t,hamiltonian=zhai1,nbit=nbit, i=5,j=1) for _ in 1:1000])/1000 for t in tlist]);\n",
    "y2 = real([sum([inf_otoc(X,X; t=t,hamiltonian=zhai2,nbit=nbit, i=5,j=1) for _ in 1:1000])/1000 for t in tlist]);\n",
    "y3 = real([inf_otoc(X,X; t=t,hamiltonian=zhai3,nbit=nbit, i=5,j=1)  for t in tlist]);\n",
    "Plots.scatter(tlist,[y1,y2,y3],ms=2,label=[\"AL\" \"MBL\" \"Thermal\"],legend=:outertopright)"
   ]
  },
  {
   "cell_type": "code",
   "execution_count": null,
   "metadata": {},
   "outputs": [],
   "source": [
    "tlist = 10 .^ range(-4,10,length = 60);\n",
    "y1 = real([sum([inf_otoc(X,X; t=t,hamiltonian=zhai1,nbit=nbit, i=5,j=1) for _ in 1:1000])/1000 for t in tlist]);\n",
    "y2 = real([sum([inf_otoc(X,X; t=t,hamiltonian=zhai2,nbit=nbit, i=5,j=1) for _ in 1:1000])/1000 for t in tlist]);\n",
    "y3 = real([sum([inf_otoc(X,X; t=t,hamiltonian=zhai3,nbit=nbit, i=5,j=1) for _ in 1:1000])/1000 for t in tlist]);\n",
    "Plots.scatter(tlist,[y1,y2,y3],ms=2,label=[\"AL\" \"MBL\" \"Thermal\"],legend=:outertopright,xscale=:log10)"
   ]
  },
  {
   "cell_type": "code",
   "execution_count": null,
   "metadata": {},
   "outputs": [],
   "source": []
  },
  {
   "cell_type": "code",
   "execution_count": null,
   "metadata": {},
   "outputs": [],
   "source": [
    "nmr1 = nmr_ising(4,1,0);\n",
    "nmr2 = nmr_ising(4,1.05,0.5);\n",
    "tlist = range(0,7,1000);\n",
    "otoc1 = real([inf_otoc(X, Y;t=t,hamiltonian=nmr2,nbit=4,i=1,j=4) for t in tlist]);\n",
    "plot(tlist,otoc1)"
   ]
  },
  {
   "cell_type": "code",
   "execution_count": null,
   "metadata": {},
   "outputs": [],
   "source": [
    "h = rand_heisenberg(8,5);\n",
    "tlist = range(0,10,100);\n",
    "yh = real([sum([inf_otoc(X,X; t=t,hamiltonian=h,nbit=nbit, i=8,j=1) for _ in 1:100])/100 for t in tlist]);\n",
    "plot(tlist,yh)\n"
   ]
  },
  {
   "cell_type": "code",
   "execution_count": null,
   "metadata": {},
   "outputs": [],
   "source": [
    "function heisenberg(nbit::Int;periodic::Bool=false)\n",
    "    sx = i ->  1/2 * put(nbit, i=>X)\n",
    "    sy = i ->  1/2 * put(nbit, i=>Y)\n",
    "    sz = i ->  1/2 * put(nbit, i=>Z)\n",
    "    hopping = map(1:nbit) do i\n",
    "\t\tj = i%(nbit-1) + 1\n",
    "\t\t(sx(i)*sx(j)+sy(i)*sy(j)+sz(i)*sz(j))\n",
    "\tend |> sum\n",
    "    return hopping\n",
    "end\n",
    "hprime = heisenberg(8)\n",
    "yprime = real([inf_otoc(X,X;t=t, hamiltonian=h, nbit=nbit,i=8,j=1) for t Base.RangeVecIntList])\n",
    "plot(tlist,yprime)"
   ]
  },
  {
   "cell_type": "code",
   "execution_count": null,
   "metadata": {},
   "outputs": [],
   "source": [
    "hei0 = hamiltonian(nbit,0)\n",
    "hei1 = hamiltonian(nbit,5); #ETH\n",
    "hei2 = hamiltonian(nbit,40); #MBL\n",
    "# W = 0\n",
    "otoc0 = real([inf_otoc(X, X;t=t,hamiltonian=hei0,nbit=nbit,i=1,j=8) for t in tlist]);\n",
    "# ETH OTOC\n",
    "otoc1 = real([inf_otoc(X, X;t=t,hamiltonian=hei1,nbit=nbit,i=1,j=8) for t in tlist]);\n",
    "# MBL OTOC\n",
    "otoc2 = real([inf_otoc(X, X;t=t,hamiltonian=hei2,nbit=nbit,i=1,j=8) for t in tlist]);"
   ]
  },
  {
   "cell_type": "code",
   "execution_count": null,
   "metadata": {},
   "outputs": [],
   "source": [
    "scatter(tlist,[otoc0, otoc1, otoc2],ms=2,label=[\"W=0\" \"ETH\" \"MBL\"])"
   ]
  },
  {
   "cell_type": "code",
   "execution_count": null,
   "metadata": {},
   "outputs": [],
   "source": [
    "log10.(1:1e5)"
   ]
  },
  {
   "cell_type": "code",
   "execution_count": null,
   "metadata": {},
   "outputs": [],
   "source": []
  }
 ],
 "metadata": {
  "kernelspec": {
   "display_name": "Julia 1.8.5",
   "language": "julia",
   "name": "julia-1.8"
  },
  "language_info": {
   "file_extension": ".jl",
   "mimetype": "application/julia",
   "name": "julia",
   "version": "1.8.5"
  },
  "orig_nbformat": 4
 },
 "nbformat": 4,
 "nbformat_minor": 2
}
